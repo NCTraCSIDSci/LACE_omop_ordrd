{
 "cells": [
  {
   "cell_type": "markdown",
   "id": "84680c52-acd2-441e-80a6-135ef4d99ff0",
   "metadata": {
    "tags": []
   },
   "source": [
    "# LACE Hospital Readmission Index\n",
    "\n",
    "\n",
    "This calculation of the  LACE Hospital Readmission Index has been designed to work on the OMOP CDM v5.3 and developed in the University of North Carolina at Chapel Hill de-identified OMOP Research Data Repository, ORDR(D). Please see the README in the repo with important notes, clarifications, and assumptions.\n",
    "\n",
    "Author: Nathan Foster\n",
    "\n",
    "Copyright 2025, The University of North Carolina at Chapel Hill.  Permission is granted to use in accordance with the MIT license.  The code is licensed under the open-source MIT license. "
   ]
  },
  {
   "cell_type": "markdown",
   "id": "5441d2b8-abe5-4b3e-84a0-f037f580fef5",
   "metadata": {
    "tags": []
   },
   "source": [
    "# Load packages, connect to the database, define functions"
   ]
  },
  {
   "cell_type": "code",
   "execution_count": 1,
   "id": "bea6594b-6d4d-42d5-bbb4-9801413d4694",
   "metadata": {
    "tags": []
   },
   "outputs": [],
   "source": [
    "import sqlalchemy\n",
    "import psycopg\n",
    "import pandas as pd\n",
    "import numpy as np\n",
    "import datetime\n",
    "\n",
    "from getpass import getpass\n",
    "from itertools import groupby"
   ]
  },
  {
   "cell_type": "code",
   "execution_count": 2,
   "id": "189776ff-7f12-4405-b075-14f940a8a10a",
   "metadata": {
    "tags": []
   },
   "outputs": [
    {
     "name": "stdin",
     "output_type": "stream",
     "text": [
      "enter username: jtfuchs\n",
      "enter password: ········\n"
     ]
    }
   ],
   "source": [
    "# Prompt for username and password\n",
    "user_name = input('enter username:')\n",
    "user_password = getpass('enter password:')\n",
    "\n",
    "\n",
    "# Configure connection\n",
    "conn = psycopg.connect(\n",
    "    host='od2-primary',\n",
    "    dbname='ordrd',\n",
    "    user=user_name,\n",
    "    password=user_password)"
   ]
  },
  {
   "cell_type": "code",
   "execution_count": 3,
   "id": "42018855-4e32-4053-bb76-404a009cbdab",
   "metadata": {
    "tags": []
   },
   "outputs": [],
   "source": [
    "cursor = conn.cursor()"
   ]
  },
  {
   "cell_type": "code",
   "execution_count": 4,
   "id": "97922854-5d5a-41ac-81c0-02e14adae851",
   "metadata": {
    "tags": []
   },
   "outputs": [],
   "source": [
    "def query_to_dataframe(query_string, column_names, d_types):\n",
    "    '''\n",
    "    Runs a SQL query on the database and returns the results\n",
    "    as a pandas DataFrame.\n",
    "    \n",
    "    PARAMETERS\n",
    "    query_string : string\n",
    "        string formatted as a SQL command, to execute on the database\n",
    "        \n",
    "    column_name : list\n",
    "        list of strings for desired names of returned columns\n",
    "        length must match the number of columsn returned in the\n",
    "        query        \n",
    "        \n",
    "        If you are selecting all (*) columns from a single table,\n",
    "        this value can be None. In that case, this function will\n",
    "        query the table to get the column names and use those to\n",
    "        create the dataframe\n",
    "        \n",
    "    d_types : dictionary\n",
    "        dictionary mapping the column names as keys to the data type\n",
    "        as values for the resulting DataFrame\n",
    "    \n",
    "    RETURNS\n",
    "        conditional. If error with query, returns\n",
    "        \n",
    "        query_result : None\n",
    "        \n",
    "        if query is successful, returns\n",
    "        \n",
    "        query_df : pandas dataframe\n",
    "            DataFrame with column names set from column_names\n",
    "    '''\n",
    "    try:\n",
    "        cursor.execute(query_string)\n",
    "        query_result = cursor.fetchall()\n",
    "    except:\n",
    "        print(\"Error with SQL command\")\n",
    "        conn.rollback()\n",
    "        query_result = None    \n",
    "\n",
    "    if query_result is not None:\n",
    "        if column_names is None:\n",
    "            # First, get the table name\n",
    "            table_name = extract_substring(query_string).strip()\n",
    "            # Build the query to get the column names\n",
    "            column_name_query = \"select column_name from information_schema.columns where table_name = '{}';\".format(table_name)\n",
    "            # Execute the query\n",
    "            cursor.execute(column_name_query)\n",
    "            column_names_tuple = cursor.fetchall()\n",
    "            # Convert tuples to strings\n",
    "            column_names = [' '.join(item) for item in column_names_tuple]\n",
    "        query_df = pd.DataFrame(query_result,columns=column_names).astype(d_types)\n",
    "        return query_df\n",
    "    \n",
    "    return query_result"
   ]
  },
  {
   "cell_type": "code",
   "execution_count": 5,
   "id": "185e8d1e-3c85-4395-9b68-fbeb5c4241d7",
   "metadata": {
    "tags": []
   },
   "outputs": [],
   "source": [
    "def extract_substring(query_string):\n",
    "    '''\n",
    "    Takes an input query string and returns the name of \n",
    "    the table that is being queried. Only works for a single\n",
    "    table. \n",
    "    \n",
    "    Example: if you are querying omop.measurement, this \n",
    "    will return measurement\n",
    "    \n",
    "    PARAMETERS\n",
    "    query_string : string\n",
    "        query string\n",
    "        \n",
    "    RETURNS\n",
    "    table_string : string\n",
    "        table that is being queried. Found after omop.\n",
    "    '''\n",
    "    # Find the index of \"omop\"\n",
    "    start_index = query_string.find(\"omop\")\n",
    "    if start_index != -1:\n",
    "        # Find the index of the next space after \"omop\"\n",
    "        end_index = query_string.find(\" \", start_index)\n",
    "        if end_index != -1:\n",
    "            # Extract the desired substring\n",
    "            table_string = query_string[start_index + 4:end_index]\n",
    "            # The substring will begin with a .\n",
    "            # ignore that\n",
    "            return table_string[1:]\n",
    "    return None  # Return None if \"omop\" or space is not found"
   ]
  },
  {
   "cell_type": "markdown",
   "id": "626dd337-a663-4f4d-a3b3-6b525a8bac30",
   "metadata": {
    "tags": []
   },
   "source": [
    "# Query Database \n",
    "\n",
    "Query the database to get all ER and inpatient visits in a DataFrame. \n",
    "\n",
    "- visit_concept_id 262 corresponds to an ER visit with subsequent inpatient stay. \n",
    "- visit_concept_id 9201 corresponds to an inpatient visit alone. \n",
    "- visit_concept_id 9203 corresponds to an ER visit alone. \n",
    "\n",
    "To limit the date range, add a line at the end of the visit_query:\n",
    "and visit_start_date > '2022/01/01'"
   ]
  },
  {
   "cell_type": "code",
   "execution_count": 6,
   "id": "806a4537-6bbc-42fd-a0ad-c0c49c30be99",
   "metadata": {
    "tags": []
   },
   "outputs": [],
   "source": [
    "visit_query = (\"\"\"\\\n",
    "                    SELECT visit_occurrence_id, person_id, visit_concept_id, \n",
    "                        visit_start_date, visit_end_date\n",
    "                    FROM omop.visit_occurrence\n",
    "                    WHERE visit_concept_id IN (262, 9201, 9203); \n",
    "                    \"\"\")"
   ]
  },
  {
   "cell_type": "code",
   "execution_count": 7,
   "id": "45ade06a-0c43-4bfa-8a62-2eb6bf07c0d6",
   "metadata": {
    "tags": []
   },
   "outputs": [],
   "source": [
    "column_names = ['visit_occurrence_id','person_id','visit_concept_id', 'visit_start_date', 'visit_end_date']\n",
    "\n",
    "d_types = {\n",
    "    'visit_occurrence_id': 'object',\n",
    "    'person_id': 'object',\n",
    "    'visit_concept_id': 'int64',\n",
    "    'visit_start_date': 'datetime64[ns]',\n",
    "    'visit_end_date': 'datetime64[ns]'\n",
    "}\n",
    "\n",
    "visit_df = query_to_dataframe(visit_query,column_names,d_types)"
   ]
  },
  {
   "cell_type": "code",
   "execution_count": 8,
   "id": "81eac5b6-298b-4587-a1f1-a4cf7a25553e",
   "metadata": {
    "tags": []
   },
   "outputs": [],
   "source": [
    "# Only inpatient visits (ER + inpatient or inpatient alone) \n",
    "inpatient_visits = visit_df[visit_df.visit_concept_id.isin([262, 9201])]\n",
    "\n",
    "# Only ER visits (ER + inpatient or ER alone) \n",
    "er_visits = visit_df[visit_df.visit_concept_id.isin([262, 9203])]"
   ]
  },
  {
   "cell_type": "markdown",
   "id": "a02877a8-a026-4d8e-9d63-6adbe644f035",
   "metadata": {},
   "source": [
    "# Calculate L: Length of Stay\n",
    "\n",
    "A score is assigned based on the length of the inpatient stay."
   ]
  },
  {
   "cell_type": "code",
   "execution_count": 9,
   "id": "141ade20-1f58-46c7-a7a2-24f0a9092204",
   "metadata": {
    "tags": []
   },
   "outputs": [],
   "source": [
    "def l_score_mapping(x):\n",
    "    '''\n",
    "    Converts number of days into the length of stay component of LACE\n",
    "    \n",
    "    PARAMETERS\n",
    "    x : int\n",
    "        length of stay\n",
    "        \n",
    "    RETURNS\n",
    "    l_score : int\n",
    "        score for the L component of LACE\n",
    "    '''\n",
    "    if x < 1:\n",
    "        l_score = 0\n",
    "    elif x == 1:\n",
    "        l_score = 1\n",
    "    elif x == 2:\n",
    "        l_score = 2\n",
    "    elif x == 3:\n",
    "        l_score = 3\n",
    "    elif ((x >= 4) & (x <= 6)):\n",
    "        l_score = 4\n",
    "    elif ((x >= 7) & (x <= 13)):\n",
    "        l_score = 5\n",
    "    else:\n",
    "        l_score = 7\n",
    "    return l_score"
   ]
  },
  {
   "cell_type": "code",
   "execution_count": 10,
   "id": "18bbe59a-3e58-4a0f-8e05-b469dda5629e",
   "metadata": {
    "tags": []
   },
   "outputs": [],
   "source": [
    "def get_l_score(df):\n",
    "    '''\n",
    "    Calculates a score based on the length of the inpatient stay\n",
    "    \n",
    "    PARAMETERS\n",
    "    df : DataFrame\n",
    "        dataframe with visit_end_date and visit_start_date as named columns\n",
    "           \n",
    "    RETURNS\n",
    "    DataFrame\n",
    "        dataframe with visit_occurrence_id, length of stay, and the score for the \n",
    "        L component of LACE\n",
    "    '''\n",
    "    # Calculate the length of stay\n",
    "    df.loc[:,'length'] = (df['visit_end_date'] - df['visit_start_date'])\n",
    "    df.loc[:,'length'] = df['length'].dt.days\n",
    "    \n",
    "    # Calculate the score for that length\n",
    "    df.loc[:,'l_score'] = df['length'].apply(l_score_mapping)\n",
    "    \n",
    "    return df[[\"visit_occurrence_id\", \"length\", \"l_score\"]]"
   ]
  },
  {
   "cell_type": "code",
   "execution_count": 11,
   "id": "97a57918-b424-46a8-876a-f8df3cc81ca7",
   "metadata": {
    "tags": []
   },
   "outputs": [
    {
     "name": "stderr",
     "output_type": "stream",
     "text": [
      "/tmp/ipykernel_146/2185766201.py:15: SettingWithCopyWarning: \n",
      "A value is trying to be set on a copy of a slice from a DataFrame.\n",
      "Try using .loc[row_indexer,col_indexer] = value instead\n",
      "\n",
      "See the caveats in the documentation: https://pandas.pydata.org/pandas-docs/stable/user_guide/indexing.html#returning-a-view-versus-a-copy\n",
      "  df.loc[:,'length'] = (df['visit_end_date'] - df['visit_start_date'])\n",
      "/tmp/ipykernel_146/2185766201.py:19: SettingWithCopyWarning: \n",
      "A value is trying to be set on a copy of a slice from a DataFrame.\n",
      "Try using .loc[row_indexer,col_indexer] = value instead\n",
      "\n",
      "See the caveats in the documentation: https://pandas.pydata.org/pandas-docs/stable/user_guide/indexing.html#returning-a-view-versus-a-copy\n",
      "  df.loc[:,'l_score'] = df['length'].apply(l_score_mapping)\n"
     ]
    }
   ],
   "source": [
    "length_of_stay = get_l_score(inpatient_visits)"
   ]
  },
  {
   "cell_type": "markdown",
   "id": "57321706-38a1-4283-8c80-d4e610e45ea4",
   "metadata": {},
   "source": [
    "# Calculate A: Acuity of Admission\n",
    "\n",
    "Acuity of admission is inferred from the type of visit. An inpatient visit alone, *visit_concept_id* = 9201, is considered a non-emergent/non-acute admission. An ER visit followed by an inpatient visit, *visit_concept_id* = 262, is considered an emergent/acute admission. For a more detained disucssion, consult the README. \n"
   ]
  },
  {
   "cell_type": "code",
   "execution_count": 12,
   "id": "eac3ef4a-ba55-44e6-9028-5f41896304f5",
   "metadata": {
    "tags": []
   },
   "outputs": [],
   "source": [
    "def a_score_mapping(x):\n",
    "    '''\n",
    "    Using the visit_concept_id, returns an acuity of admission score\n",
    "    3 = acute/emergent, 0 = non-acute/non-emergent\n",
    "    \n",
    "    PARAMETERS\n",
    "    x : int\n",
    "        integeger representing the OMOP Concept ID for the corresponding\n",
    "        visit\n",
    "    \n",
    "    RETURNS\n",
    "    a_score : int\n",
    "        score for the A component of LACE\n",
    "    '''\n",
    "    if x == 262:\n",
    "        a_score = 3\n",
    "    else:\n",
    "        a_score = 0\n",
    "    return a_score"
   ]
  },
  {
   "cell_type": "code",
   "execution_count": 13,
   "id": "84e962e3-bf13-45db-a163-c0a0adff8bbd",
   "metadata": {
    "tags": []
   },
   "outputs": [],
   "source": [
    "def get_a_score(df):\n",
    "    '''\n",
    "    Calculates a score based on the acuity of patient admission. \n",
    "    \n",
    "    PARAMETERS\n",
    "    df : DataFrame\n",
    "        dataframe with visit_concept_id as a column\n",
    "           \n",
    "    RETURNS\n",
    "    DataFrame\n",
    "        dataframe with visit_occurrence_id and the score for the \n",
    "        A component of LACE\n",
    "    '''\n",
    "    df.loc[:,'a_score'] = df['visit_concept_id'].apply(a_score_mapping)\n",
    "    \n",
    "    return df[[\"visit_occurrence_id\",\"a_score\"]]"
   ]
  },
  {
   "cell_type": "code",
   "execution_count": 14,
   "id": "fa565bb3-3658-4035-b623-b88ff99717fa",
   "metadata": {
    "tags": []
   },
   "outputs": [
    {
     "name": "stderr",
     "output_type": "stream",
     "text": [
      "/tmp/ipykernel_146/1947189066.py:14: SettingWithCopyWarning: \n",
      "A value is trying to be set on a copy of a slice from a DataFrame.\n",
      "Try using .loc[row_indexer,col_indexer] = value instead\n",
      "\n",
      "See the caveats in the documentation: https://pandas.pydata.org/pandas-docs/stable/user_guide/indexing.html#returning-a-view-versus-a-copy\n",
      "  df.loc[:,'a_score'] = df['visit_concept_id'].apply(a_score_mapping)\n"
     ]
    }
   ],
   "source": [
    "acuity_of_admission = get_a_score(inpatient_visits)"
   ]
  },
  {
   "cell_type": "markdown",
   "id": "17515d9f-1873-4be6-8bd7-4c2eed0600de",
   "metadata": {
    "tags": []
   },
   "source": [
    "# Calculate C: Charlson Comorbidity Index\n",
    "\n",
    "Calculates the CCI for each inpatient visit to convert to the C component of LACE. See the README for details about this calculation."
   ]
  },
  {
   "cell_type": "markdown",
   "id": "57f2ee91-bafc-4647-a060-21ae47c787af",
   "metadata": {},
   "source": [
    "### Helper functions for Charlson Comorbidity Index calculation"
   ]
  },
  {
   "cell_type": "code",
   "execution_count": 15,
   "id": "45713009-05f5-4be7-9e08-e076470a8c6f",
   "metadata": {
    "tags": []
   },
   "outputs": [],
   "source": [
    "def split_list_to_dict(lst):\n",
    "    \"\"\"\n",
    "    Splits a Python list into a dictionary where the keys are the length of each entry\n",
    "    and the values are the corresponding entries.\n",
    "    \n",
    "    PARAMETERS\n",
    "    lst : list\n",
    "        list of strings\n",
    "        \n",
    "    RETURNS\n",
    "    result_dict : dictionary\n",
    "        dictionary where keys are the length of entries in lst, and values are entries\n",
    "        in lst that correspond to that length\n",
    "    \"\"\"\n",
    "    result_dict = {}\n",
    "    for item in lst:\n",
    "        key = len(item)\n",
    "        if key not in result_dict:\n",
    "            result_dict[key] = []\n",
    "        result_dict[key].append(item)\n",
    "    return result_dict"
   ]
  },
  {
   "cell_type": "code",
   "execution_count": 16,
   "id": "3673d01c-856b-4229-add5-37e203863644",
   "metadata": {
    "tags": []
   },
   "outputs": [],
   "source": [
    "def add_new_row(df):\n",
    "    \"\"\"\n",
    "    Adds a new row to the dataframe if the condition_source_value is 4373. This is to account\n",
    "    for 437.3 and 437 being listed as two sepate indicators in Quan et al. (2005). \n",
    "    \n",
    "    For patients with this condition, this function appends a row so that both formats\n",
    "    are included. \n",
    "    \n",
    "    PARAMETERS\n",
    "    df : pandas DataFrame\n",
    "    \n",
    "    RETURNS\n",
    "    new_df : pandas DataFrame\n",
    "    new rows are appended at the bottom of the input dataframe\n",
    "    \"\"\"\n",
    "    # Identify rows where condition_source_value is '4373'\n",
    "    mask = df['condition_source_value'] == '4373'\n",
    "    \n",
    "    # Create a new DataFrame with the same person_id and condition_source_value = '437'\n",
    "    new_row = df[mask].copy()\n",
    "    new_row['condition_source_value'] = '437'\n",
    "    \n",
    "    # Append the new row to the original DataFrame\n",
    "    new_df = pd.concat([df,new_row],ignore_index=True)\n",
    "    \n",
    "    return new_df"
   ]
  },
  {
   "cell_type": "code",
   "execution_count": 17,
   "id": "620d57af-5e5d-4d11-90d0-676d6ef67937",
   "metadata": {
    "tags": []
   },
   "outputs": [],
   "source": [
    "def calculate_score(condition_list,weight_col):\n",
    "    \"\"\"\n",
    "    Calculates the CCI given a list of conditions a patient has. If a condition appears twice in the condition_df,\n",
    "    then it will be counted twice here. \n",
    "      \n",
    "    PARAMETERS\n",
    "    condition_list : list\n",
    "        list of conditions a patient has diagnoses for\n",
    "        \n",
    "    weight_col : string\n",
    "        column in condition_df containing the weights for each condition group\n",
    "        \n",
    "    RETURNS\n",
    "    total_score : int\n",
    "        CCI for these conditions\n",
    "    \"\"\"\n",
    "    total_score = 0\n",
    "    \n",
    "    # Iterate through the condition_df to go through,\n",
    "    # condition by condition, and see if any values in the\n",
    "    # condition list match any of the values for that particular\n",
    "    # condition. If so, sum the score for that condition to \n",
    "    # the overall score\n",
    "    for index, row in condition_df.iterrows():\n",
    "        if bool(set(condition_list).intersection(set(row['icd']))):\n",
    "            total_score += row[weight_col]\n",
    "    return total_score"
   ]
  },
  {
   "cell_type": "markdown",
   "id": "4f69d4b8-19ec-4b52-8181-1c90ad2117e4",
   "metadata": {},
   "source": [
    "### Define Conditions"
   ]
  },
  {
   "cell_type": "code",
   "execution_count": 18,
   "id": "358baa5e-704d-4a3b-8573-acf9cda4f5b5",
   "metadata": {
    "tags": []
   },
   "outputs": [],
   "source": [
    "columns = ['icd','charlson87_weight']\n",
    "\n",
    "condition_dictionary = {'myocardial infarction' : [['410','412','I21','I22','I252'],1],\n",
    "                        'congestive heart failure' : [['39891','40201','40211','40291','40401','40403','40411','40413','40491','40493',\n",
    "                                                       '4254','4255',\n",
    "                                                        '4256','4257','4258','4259','428','I099','I110','I130','I132','I255','I420',\n",
    "                                                       'I425','I426','I427',\n",
    "                                                              'I428','I429','P290','I43','I50'],1],\n",
    "                        'peripheral vascular disease' : [['0930','4373','4431','4432','4433','4434','4435','4436','4437','4438','4439',\n",
    "                                                          '4471','5571','5579',\n",
    "                                                                 'V434','440','441','I731','I738','I739','I771','I790','I792','K551',\n",
    "                                                          'K558','K559','Z958','Z959',\n",
    "                                                                 'I70','I71'],1],\n",
    "                        'cerebrovascular disease' : [['430','431','432','433','434','435','436','437','438','36234','G45','G46','I60',\n",
    "                                                      'I61','I62','I63',\n",
    "                                                             'I64','I65','I66','I67','I68','I69','H340'],1],\n",
    "                        'dementia' : [['29410','29411','3312','290','F051','G311','F00','F01','F02','F03','G30'],1],\n",
    "                        'chronic pulmonary disease' : [['490','491','492','493','494','495','496','500','501','502','503','504','505',\n",
    "                                                        '4168','4169','5064',\n",
    "                                                               '5081','5088','J40','J41','J42','J43','J44','J45','J46','J47','J60','J61',\n",
    "                                                        'J62','J63','J64','J65',\n",
    "                                                               'J66','J67','I278','I279','J684','J701','J703'],1],\n",
    "                        'connective tissue disease' : [['4465','7100','7101','7102','7103','7104','7140','7141','7142','7148','725','M315',\n",
    "                                                        'M351','M353',\n",
    "                                                                'M360','M05','M32','M33','M34','M06'],1],\n",
    "                        'ulcer disease' : [['531','532','533','534','K25','K26','K27','K28'],1],\n",
    "                        'mild liver disease' : [['07022','07023','07032','07033','07044','07054','0706','0709','5733','5734','5738','5739',\n",
    "                                                 'V427','570',\n",
    "                                                        '571','K700','K701','K702','K703','K709','K717','K713','K714','K715','K760','K762',\n",
    "                                                 'K763','K764','K768',\n",
    "                                                        'K769','Z944','B18','K73','K74'],1],\n",
    "                        'diabetes without complications' : [['2500','2501','2502','2503','2508','2509','E100','E101','E106','E108','E109',\n",
    "                                                             'E110','E111',\n",
    "                                                                     'E116','E118','E119','E120','E121','E126','E128','E129','E130','E131',\n",
    "                                                             'E136','E138','E139',\n",
    "                                                                     'E140','E141','E146','E148','E149'],1],\n",
    "                        'hemiplegia' : [['3341','3440','3441','3442','3443','3444','3445','3446','3449','342','343','G041','G114','G801',\n",
    "                                         'G802','G830',\n",
    "                                                'G831','G832','G833','G834','G839','G81','G82'],2],\n",
    "                        'renal disease' : [['40301','40311','40391','40402','40403','40412','40413','40492','40493','5830','5831','5832',\n",
    "                                            '5834','5836','5837',\n",
    "                                              '5880','V420','V451','582','585','586','V56','N18','N19','N052','N053','N054','N055','N056',\n",
    "                                            'N057','N250','I120',\n",
    "                                              'I131','N032','N033','N034','N035','N036','N037','Z490','Z491','Z492','Z940','Z992'],2],\n",
    "                        'diabetes with complications' : [['2504','2505','2506','2507','E102','E103','E104','E105','E107','E112','E113','E114',\n",
    "                                                          'E115','E117',\n",
    "                                                            'E122','E123','E124','E125','E127','E132','E133','E134','E135','E137','E142',\n",
    "                                                          'E143','E144','E145',\n",
    "                                                            'E147'],2],\n",
    "                        'cancer' : [['140','141','142','143','144','145','146','147','148','149','150','151','152','153','154','155','156',\n",
    "                                     '157','158','159',\n",
    "                                       '160','161','162','163','164','165','170','171','172','174','175','176','179','180','181','182','183',\n",
    "                                     '184','185','186',\n",
    "                                       '187','188','189','190','191','192','193','194','195','200','201','202','203','204','205','206','207',\n",
    "                                     '208','2386','C00',\n",
    "                                       'C01','C02','C03','C04','C05','C06','C07','C08','C09','C10','C11','C12','C13','C14','C15','C16','C17',\n",
    "                                     'C18','C19','C20',\n",
    "                                       'C21','C22','C23','C24','C25','C26','C30','C31','C32','C33','C34','C37','C38','C39','C40','C41','C43',\n",
    "                                     'C45','C46','C47',\n",
    "                                       'C48','C49','C50','C51','C52','C53','C54','C55','C56','C57','C58','C60','C61','C62','C63','C64','C65',\n",
    "                                     'C66','C67','C68',\n",
    "                                       'C69','C70','C71','C72','C73','C74','C75','C76','C81','C82','C83','C84','C85','C88','C90','C91','C92',\n",
    "                                     'C93','C94','C95',\n",
    "                                       'C96','C97'],2],\n",
    "                        'moderate or severe liver disease' : [['4560','4561','4562','5722','5723','5724','5728','K704','K711','K721','K729',\n",
    "                                                               'K765','K766',\n",
    "                                                                 'K767','I850','I859','I864','I982'],3],\n",
    "                        'metastatic cancer' : [['196','197','198','199','C77','C78','C79','C80'],6],\n",
    "                        'aids' : [['042','043','044','B20','B21','B22','B24'],6]\n",
    "}\n",
    "\n"
   ]
  },
  {
   "cell_type": "code",
   "execution_count": 19,
   "id": "4a409085-da69-4c61-bc27-9480b5af3bba",
   "metadata": {
    "tags": []
   },
   "outputs": [
    {
     "data": {
      "text/html": [
       "<div>\n",
       "<style scoped>\n",
       "    .dataframe tbody tr th:only-of-type {\n",
       "        vertical-align: middle;\n",
       "    }\n",
       "\n",
       "    .dataframe tbody tr th {\n",
       "        vertical-align: top;\n",
       "    }\n",
       "\n",
       "    .dataframe thead th {\n",
       "        text-align: right;\n",
       "    }\n",
       "</style>\n",
       "<table border=\"1\" class=\"dataframe\">\n",
       "  <thead>\n",
       "    <tr style=\"text-align: right;\">\n",
       "      <th></th>\n",
       "      <th>icd</th>\n",
       "      <th>charlson87_weight</th>\n",
       "    </tr>\n",
       "  </thead>\n",
       "  <tbody>\n",
       "    <tr>\n",
       "      <th>myocardial infarction</th>\n",
       "      <td>[410, 412, I21, I22, I252]</td>\n",
       "      <td>1</td>\n",
       "    </tr>\n",
       "    <tr>\n",
       "      <th>congestive heart failure</th>\n",
       "      <td>[39891, 40201, 40211, 40291, 40401, 40403, 404...</td>\n",
       "      <td>1</td>\n",
       "    </tr>\n",
       "    <tr>\n",
       "      <th>peripheral vascular disease</th>\n",
       "      <td>[0930, 4373, 4431, 4432, 4433, 4434, 4435, 443...</td>\n",
       "      <td>1</td>\n",
       "    </tr>\n",
       "    <tr>\n",
       "      <th>cerebrovascular disease</th>\n",
       "      <td>[430, 431, 432, 433, 434, 435, 436, 437, 438, ...</td>\n",
       "      <td>1</td>\n",
       "    </tr>\n",
       "    <tr>\n",
       "      <th>dementia</th>\n",
       "      <td>[29410, 29411, 3312, 290, F051, G311, F00, F01...</td>\n",
       "      <td>1</td>\n",
       "    </tr>\n",
       "  </tbody>\n",
       "</table>\n",
       "</div>"
      ],
      "text/plain": [
       "                                                                           icd  \\\n",
       "myocardial infarction                               [410, 412, I21, I22, I252]   \n",
       "congestive heart failure     [39891, 40201, 40211, 40291, 40401, 40403, 404...   \n",
       "peripheral vascular disease  [0930, 4373, 4431, 4432, 4433, 4434, 4435, 443...   \n",
       "cerebrovascular disease      [430, 431, 432, 433, 434, 435, 436, 437, 438, ...   \n",
       "dementia                     [29410, 29411, 3312, 290, F051, G311, F00, F01...   \n",
       "\n",
       "                             charlson87_weight  \n",
       "myocardial infarction                        1  \n",
       "congestive heart failure                     1  \n",
       "peripheral vascular disease                  1  \n",
       "cerebrovascular disease                      1  \n",
       "dementia                                     1  "
      ]
     },
     "execution_count": 19,
     "metadata": {},
     "output_type": "execute_result"
    }
   ],
   "source": [
    "condition_df = pd.DataFrame.from_dict(condition_dictionary,orient='index',columns=columns)\n",
    "condition_df.head()"
   ]
  },
  {
   "cell_type": "code",
   "execution_count": 20,
   "id": "f4e2f7bc-1e94-4721-84a4-ba81b8efc691",
   "metadata": {
    "tags": []
   },
   "outputs": [],
   "source": [
    "# #xtract ICD codes\n",
    "condition_list_icd = condition_df['icd'].to_list()\n",
    "\n",
    "# Flatten list\n",
    "condition_list_icd = [item for sublist in condition_list_icd for item in sublist]\n",
    "\n",
    "# Split list into dictionary by length of code\n",
    "condition_dictionary_icd = split_list_to_dict(condition_list_icd)"
   ]
  },
  {
   "cell_type": "markdown",
   "id": "a930dda2-ae33-48ab-bea9-163a93287980",
   "metadata": {
    "tags": []
   },
   "source": [
    "### Query Database"
   ]
  },
  {
   "cell_type": "code",
   "execution_count": 21,
   "id": "74beaf69-9be3-496c-9032-f08d7f622889",
   "metadata": {
    "tags": []
   },
   "outputs": [],
   "source": [
    "condition_query = (\"\"\"\\\n",
    "                    WITH condition_start_filter AS (\n",
    "                        SELECT vco.*\n",
    "                        FROM omop.v_condition_occurrence AS vco\n",
    "                        LEFT join omop.person AS p\n",
    "                            ON vco.person_id = p.person_id\n",
    "                        WHERE condition_type_concept_id = 32840\n",
    "                            AND (vco.condition_start_date - p.birth_datetime::date) >= 0\n",
    "                    )    \n",
    "                    SELECT DISTINCT person_id, \n",
    "                    CASE WHEN substring(translate(condition_source_value,'.',''),1,4) IN ('4373') THEN '4373' \n",
    "                        WHEN substring(condition_source_value,1,3) IN {0} THEN substring(condition_source_value,1,3)\n",
    "                        WHEN substring(translate(condition_source_value,'.',''),1,4) IN {1} THEN substring(translate(condition_source_value,'.',''),1,4)\n",
    "                        WHEN substring(translate(condition_source_value,'.',''),1,5) IN {2} THEN substring(translate(condition_source_value,'.',''),1,5)\n",
    "                        ELSE NULL END AS condition_source_value,\n",
    "                    condition_source_concept_vocabulary_id,\n",
    "                    condition_start_date\n",
    "                    FROM condition_start_filter\n",
    "                    WHERE CASE\n",
    "                        WHEN substring(translate(condition_source_value,'.',''),1,4) IN ('4373') THEN  1\n",
    "                        WHEN substring(condition_source_value,1,3) IN {0} THEN 1\n",
    "                        WHEN substring(translate(condition_source_value,'.',''),1,4) IN {1} THEN 1 \n",
    "                        WHEN substring(translate(condition_source_value,'.',''),1,5) IN {2} THEN 1 \n",
    "                        ELSE 0\n",
    "                        END = 1;\n",
    "                    \"\"\").format(tuple(condition_dictionary_icd[3]),tuple(condition_dictionary_icd[4]),tuple(condition_dictionary_icd[5]))\n"
   ]
  },
  {
   "cell_type": "code",
   "execution_count": 22,
   "id": "ad11c38a-8ba1-4594-a5e9-3d310062a552",
   "metadata": {
    "tags": []
   },
   "outputs": [],
   "source": [
    "column_names = ['person_id','condition_source_value','condition_source_concept_vocabulary_id', 'condition_start_date']\n",
    "\n",
    "d_types = {\n",
    "    'person_id': 'object',\n",
    "    'condition_source_value': 'object',\n",
    "    'condition_source_concept_vocabulary_id': 'object',\n",
    "    'condition_start_date': 'datetime64[ns]'\n",
    "}\n",
    "\n",
    "person_condition_df = query_to_dataframe(condition_query,column_names,d_types)"
   ]
  },
  {
   "cell_type": "markdown",
   "id": "c2a3d9d3-3b5e-4206-ba5a-933e960f8d99",
   "metadata": {},
   "source": [
    "### Where condition 437.3 is present, we need to add condition 437\n",
    "\n",
    "This condition needs to be listed twice in the DataFrame. We don't need to do this for the other duplicated ICD-9 codes because the ```calculate_score``` function deals with those correctly because it is the same code listed twice, not slightly differently. "
   ]
  },
  {
   "cell_type": "code",
   "execution_count": 24,
   "id": "57902a0b-1785-4d8f-8dc2-aa66303017d7",
   "metadata": {
    "tags": []
   },
   "outputs": [],
   "source": [
    "person_condition_df = add_new_row(person_condition_df)"
   ]
  },
  {
   "cell_type": "markdown",
   "id": "c0adb4b1-d4ea-475b-8204-1981caf42a9f",
   "metadata": {},
   "source": [
    "### Check that subset of conditions correspond to ICD9, not ICD10\n",
    "\n",
    "Check for the following conditions: V43.4, V42.7, V42.0, V45.1, V56.x\n",
    "\n",
    "These can correspond to codes in both ICD9 and ICD10, but for Charlson should be ICD9 codes (per Quan 2005). Therefore, remove rows where the condition is one of those and the source vocabulary is ICD10CM. "
   ]
  },
  {
   "cell_type": "code",
   "execution_count": 25,
   "id": "f00d9aec-1c70-4d6b-9bc8-f34a5d1bda4b",
   "metadata": {
    "tags": []
   },
   "outputs": [],
   "source": [
    "# Filter out rows where condition_source is V42 or V44 and vocabulary_id is ICD10CM\n",
    "person_condition_df = person_condition_df[~((person_condition_df['condition_source_value'].isin(['V434', 'V427', 'V420','V451','V56'])) & \n",
    "                   (person_condition_df['condition_source_concept_vocabulary_id'] == 'ICD10CM'))]"
   ]
  },
  {
   "cell_type": "markdown",
   "id": "1d1ce05d-069d-4d33-93cc-bf42ac07d289",
   "metadata": {},
   "source": [
    "### Link Charlson Conditions to Visits\n",
    "Connect all inpatient visits to Charlson conditions on the basis of *person_id*, then filter to retain only conditions that started on or before the last day of a visit. "
   ]
  },
  {
   "cell_type": "code",
   "execution_count": 26,
   "id": "d56c0448-c8f6-4e79-9609-be8fad03da52",
   "metadata": {
    "tags": []
   },
   "outputs": [],
   "source": [
    "# Merge the inpatient visits DataFrame with the conditions DataFrame\n",
    "visit_condition_df = inpatient_visits.merge(person_condition_df, how='left', on='person_id')\n",
    "\n",
    "# Apply filter - the condition start date must be no later than the last day of the inpatient visit\n",
    "visit_condition_df_filter = np.where(visit_condition_df['visit_end_date'] >= visit_condition_df['condition_start_date'])\n",
    "visit_condition_df = visit_condition_df.loc[visit_condition_df_filter]"
   ]
  },
  {
   "cell_type": "markdown",
   "id": "febdaf18-4fc2-4505-8cb9-9eab3a0d9c9e",
   "metadata": {
    "tags": []
   },
   "source": [
    "### Group conditions by visit_occurrence_id"
   ]
  },
  {
   "cell_type": "code",
   "execution_count": 27,
   "id": "dc8f6602-11a1-4a54-9dfb-349eb4df9e94",
   "metadata": {
    "tags": []
   },
   "outputs": [],
   "source": [
    "# Use groupby to get a list of all conditions for each inpatient visit\n",
    "visit_condition_grouped_df = visit_condition_df.groupby('visit_occurrence_id')['condition_source_value'].apply(list).reset_index()"
   ]
  },
  {
   "cell_type": "markdown",
   "id": "f82663e8-fc3e-4be1-8c1a-1034438c6b6b",
   "metadata": {},
   "source": [
    "### Calculate CCI based on conditions"
   ]
  },
  {
   "cell_type": "code",
   "execution_count": 28,
   "id": "714ca05f-3516-43cc-bbca-107b980468d8",
   "metadata": {
    "tags": []
   },
   "outputs": [],
   "source": [
    "# Specify column name for condition weights in the condition_df\n",
    "weight_column = 'charlson87_weight'\n",
    "\n",
    "visit_condition_grouped_df['comorbidity_score'] = visit_condition_grouped_df.apply(\n",
    "    lambda row: calculate_score(row['condition_source_value'],weight_column),axis=1)"
   ]
  },
  {
   "cell_type": "markdown",
   "id": "220cb727-8a28-4d76-9354-224888839651",
   "metadata": {},
   "source": [
    "### Calculate C-score based on CCI"
   ]
  },
  {
   "cell_type": "code",
   "execution_count": 29,
   "id": "6bc88ed8-8fea-488d-aa6a-eb874ae17d29",
   "metadata": {
    "tags": []
   },
   "outputs": [],
   "source": [
    "def c_score_mapping(x):\n",
    "    '''\n",
    "    Convert from a CCI score to the C score for LACE. The C score matches the \n",
    "    Charlson score up to 3, but any Charlson score above 3 is recorded as a c-score of 5\n",
    "    \n",
    "    PARAMETER\n",
    "    x : int\n",
    "        CCI score for corresponding visit\n",
    "        \n",
    "    RETURNS\n",
    "    cci_score : int\n",
    "        score for the C component of LACE\n",
    "    '''\n",
    "    if x == 0:\n",
    "        cci_score = 0\n",
    "    elif x == 1:\n",
    "        cci_score = 1\n",
    "    elif x == 2:\n",
    "        cci_score = 2\n",
    "    elif x == 3:\n",
    "        cci_score = 3\n",
    "    elif x >= 4:\n",
    "        cci_score = 5\n",
    "    else:\n",
    "        cci_score = 0\n",
    "    return cci_score"
   ]
  },
  {
   "cell_type": "code",
   "execution_count": 30,
   "id": "a8d3d00f-a157-4c22-8a16-7e2029094693",
   "metadata": {
    "tags": []
   },
   "outputs": [],
   "source": [
    "visit_condition_grouped_df['c_score'] = visit_condition_grouped_df.apply(\n",
    "    lambda row: c_score_mapping(row['comorbidity_score']),axis=1)\n",
    "\n",
    "# Select only the visit id and the c-score, for joining back to the final DataFrame\n",
    "charlson_comorbidity_index = visit_condition_grouped_df[[\"visit_occurrence_id\", \"c_score\"]]"
   ]
  },
  {
   "cell_type": "markdown",
   "id": "20af1532-176d-41af-ba1c-48de54d74ea4",
   "metadata": {
    "tags": []
   },
   "source": [
    "# Calculate E: Emergency Visits in Last 180 Days\n",
    "\n",
    "While van Walraven et al. (2010), uses ER visits in the past 6 months, 180 days is a more consistent unit to use. ER visits which took place on the same day as the inpatient admission, but did not directly lead to that admission, are counted towards the total. "
   ]
  },
  {
   "cell_type": "code",
   "execution_count": 31,
   "id": "a7cbdaec-3f58-4fe3-b021-1b848fcfd05b",
   "metadata": {
    "tags": []
   },
   "outputs": [],
   "source": [
    "def e_score_mapping(x):\n",
    "    '''\n",
    "    Calculates the E score based on the number of ER visits in the previous 180 days.\n",
    "      \n",
    "    PARAMETERS\n",
    "    x : int\n",
    "        number of ER visits in the previous 180 days\n",
    "    \n",
    "    RETURNS\n",
    "    e_score : int\n",
    "        score for the E component of LACE    \n",
    "    '''\n",
    "    if x == 0:\n",
    "        e_score = 0\n",
    "    elif x == 1:\n",
    "        e_score = 1\n",
    "    elif x == 2:\n",
    "        e_score = 2\n",
    "    elif x == 3:\n",
    "        e_score = 3\n",
    "    else:\n",
    "        e_score = 4\n",
    "    return e_score "
   ]
  },
  {
   "cell_type": "code",
   "execution_count": 32,
   "id": "4ac0e885-53d9-4954-8c82-cef55dbb30ef",
   "metadata": {
    "tags": []
   },
   "outputs": [],
   "source": [
    "def get_e_score(inpatient_visits, er_visits):\n",
    "    '''\n",
    "    Calculates a score based on the number of patient ER visits in the previous 180 days. \n",
    "       \n",
    "    PARAMETERS\n",
    "    inpatient_visits : DataFrame\n",
    "        dataframe with only inpatient visits\n",
    "        \n",
    "    er_visits : DataFrame\n",
    "        dataframe with only ER visits\n",
    "           \n",
    "    RETURNS\n",
    "    DataFrame\n",
    "        dataframe with visit_occurrence_id and the score for the \n",
    "        E component of LACE\n",
    "    '''\n",
    "    # Rename and select relevant columns from the er_visits DataFrame\n",
    "    er_visits.loc[:,'er_visit_date'] = er_visits['visit_start_date']\n",
    "    er_visits = er_visits[[\"person_id\",\"er_visit_date\"]]\n",
    "    \n",
    "    # Merge the DataFrames and calculate the difference in days\n",
    "    # then keep only the visits where the difference is 0 to 180 days\n",
    "    visits_prior_180_days = inpatient_visits.merge(er_visits, how='left', on='person_id')\n",
    "    visits_prior_180_days['date_diff'] = visits_prior_180_days.visit_start_date - visits_prior_180_days.er_visit_date\n",
    "    visits_filtered = np.where((visits_prior_180_days['date_diff'] >= np.timedelta64(0, 'D'))\n",
    "                              & (visits_prior_180_days['date_diff'] <= np.timedelta64(180, 'D')))\n",
    "    visits_prior_180_days = visits_prior_180_days.loc[visits_filtered]\n",
    "    \n",
    "    # Calculate the visit counts\n",
    "    visit_counts = visits_prior_180_days.groupby(['visit_occurrence_id','visit_concept_id']).size().reset_index(name='prior_er_visits')\n",
    "    visit_counts['adjustment'] = visit_counts['visit_concept_id'].apply(lambda x: 1 if x == 262 else 0)\n",
    "    visit_counts['prior_er_visits'] = visit_counts['prior_er_visits'] - visit_counts ['adjustment']\n",
    "    \n",
    "    # Calculate ER visits in the previous 180 days\n",
    "    # for each inpatient visit\n",
    "    er_visits_past_180_days = inpatient_visits.merge(visit_counts, how='left', on='visit_occurrence_id')\n",
    "    er_visits_past_180_days = er_visits_past_180_days.replace(np.NaN, 0)\n",
    "    er_visits_past_180_days['e_score'] = er_visits_past_180_days['prior_er_visits'].apply(e_score_mapping)\n",
    "    er_visits_past_180_days = er_visits_past_180_days[[\"visit_occurrence_id\",\"e_score\"]]\n",
    "    \n",
    "    return er_visits_past_180_days"
   ]
  },
  {
   "cell_type": "code",
   "execution_count": 33,
   "id": "6b993c31-7280-4502-afa6-99a942f1bc3a",
   "metadata": {
    "tags": []
   },
   "outputs": [
    {
     "name": "stderr",
     "output_type": "stream",
     "text": [
      "/tmp/ipykernel_146/654260867.py:18: SettingWithCopyWarning: \n",
      "A value is trying to be set on a copy of a slice from a DataFrame.\n",
      "Try using .loc[row_indexer,col_indexer] = value instead\n",
      "\n",
      "See the caveats in the documentation: https://pandas.pydata.org/pandas-docs/stable/user_guide/indexing.html#returning-a-view-versus-a-copy\n",
      "  er_visits.loc[:,'er_visit_date'] = er_visits['visit_start_date']\n"
     ]
    }
   ],
   "source": [
    "er_visits_past_180_days = get_e_score(inpatient_visits, er_visits)"
   ]
  },
  {
   "cell_type": "markdown",
   "id": "7378c682-5a7d-45e5-983f-3660ca50d7ec",
   "metadata": {},
   "source": [
    "## Calculate LACE\n",
    "\n",
    "Combine all scores into a single DataFrame, sum together to get LACE score"
   ]
  },
  {
   "cell_type": "code",
   "execution_count": 34,
   "id": "aded1a0c-7ae9-46b4-bb65-044eb2464c9f",
   "metadata": {
    "tags": []
   },
   "outputs": [],
   "source": [
    "# Select columns in inpatient_visits\n",
    "lace = inpatient_visits[[\"visit_occurrence_id\", \"person_id\", \"visit_concept_id\", \"visit_start_date\"]]\n",
    "\n",
    "# Merge the four subscores into the DataFrame\n",
    "lace = lace.merge(length_of_stay, how='left', on='visit_occurrence_id')\n",
    "lace = lace.merge(acuity_of_admission, how='left', on='visit_occurrence_id')\n",
    "lace = lace.merge(charlson_comorbidity_index, how='left', on='visit_occurrence_id')\n",
    "lace = lace.merge(er_visits_past_180_days, how='left', on='visit_occurrence_id')\n",
    "\n",
    "# For c_score, replace NaN with 0\n",
    "lace = lace.replace(np.NaN, 0)\n",
    "\n",
    "# Calculate final LACE score\n",
    "lace[\"lace_score\"] = lace[\"l_score\"] + lace[\"a_score\"] + lace[\"c_score\"] + lace[\"e_score\"]"
   ]
  }
 ],
 "metadata": {
  "kernelspec": {
   "display_name": "Python 3 (ipykernel)",
   "language": "python",
   "name": "python3"
  },
  "language_info": {
   "codemirror_mode": {
    "name": "ipython",
    "version": 3
   },
   "file_extension": ".py",
   "mimetype": "text/x-python",
   "name": "python",
   "nbconvert_exporter": "python",
   "pygments_lexer": "ipython3",
   "version": "3.11.5"
  }
 },
 "nbformat": 4,
 "nbformat_minor": 5
}
